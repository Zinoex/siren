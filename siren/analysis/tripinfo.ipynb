{
 "cells": [
  {
   "cell_type": "code",
   "execution_count": 30,
   "metadata": {},
   "outputs": [],
   "source": [
    "import os\n",
    "import itertools\n",
    "\n",
    "import pandas as pd\n",
    "import numpy as np\n",
    "import seaborn as sns\n",
    "import matplotlib.pyplot as plt\n",
    "\n",
    "from tqdm.auto import tqdm\n",
    "from bs4 import BeautifulSoup"
   ]
  },
  {
   "cell_type": "code",
   "execution_count": 2,
   "metadata": {},
   "outputs": [],
   "source": [
    "experiments = os.listdir('../data')"
   ]
  },
  {
   "cell_type": "code",
   "execution_count": 47,
   "metadata": {},
   "outputs": [
    {
     "data": {
      "application/vnd.jupyter.widget-view+json": {
       "model_id": "1748995af30640a582e6ff473c1a4d78",
       "version_major": 2,
       "version_minor": 0
      },
      "text/plain": [
       "HBox(children=(FloatProgress(value=1.0, bar_style='info', max=1.0), HTML(value='')))"
      ]
     },
     "metadata": {},
     "output_type": "display_data"
    },
    {
     "name": "stdout",
     "output_type": "stream",
     "text": [
      "\n"
     ]
    }
   ],
   "source": [
    "def extract_tripinfo(tripinfo, path):\n",
    "    vid = tripinfo['id']\n",
    "    vtype = tripinfo['vType']\n",
    "    depart_time = float(tripinfo['depart'])\n",
    "    depart_lane = tripinfo['departLane']\n",
    "    depart_delay = float(tripinfo['departDelay'])\n",
    "    arrival_time = float(tripinfo['arrival'])\n",
    "    arrival_lane = tripinfo['arrivalLane']\n",
    "    duration = float(tripinfo['duration'])\n",
    "    route_length = float(tripinfo['routeLength'])\n",
    "    waiting_time = float(tripinfo['waitingTime'])\n",
    "    waiting_count = int(tripinfo['waitingCount'])\n",
    "    time_loss = float(tripinfo['timeLoss'])\n",
    "    speed_factor = float(tripinfo['speedFactor'])\n",
    "    \n",
    "    emissions = tripinfo.find('emissions')\n",
    "    co_abs = float(emissions['CO_abs'])\n",
    "    co2_abs = float(emissions['CO2_abs'])\n",
    "    hc_abs = float(emissions['HC_abs'])\n",
    "    pmx_abs = float(emissions['PMx_abs'])\n",
    "    nox_abs = float(emissions['NOx_abs'])\n",
    "    fuel_abs = float(emissions['fuel_abs'])\n",
    "    \n",
    "    return path, vid, vtype, depart_time, depart_lane, depart_delay, arrival_time, arrival_lane, duration, route_length, waiting_time, waiting_count, time_loss, speed_factor, co_abs, co2_abs, hc_abs, pmx_abs, nox_abs, fuel_abs\n",
    "\n",
    "\n",
    "def extract_personinfo(personinfo, path):\n",
    "    vid = personinfo['id']\n",
    "    vtype = personinfo['type']\n",
    "    \n",
    "    walk = personinfo.find('walk')\n",
    "    depart_time = float(walk['depart'])\n",
    "    depart_lane = None\n",
    "    depart_delay = None\n",
    "    arrival_time = float(walk['arrival'])\n",
    "    arrival_lane = None\n",
    "    duration = float(walk['duration'])\n",
    "    route_length = float(walk['routeLength'])\n",
    "    waiting_time = None\n",
    "    waiting_count = None\n",
    "    time_loss = float(walk['timeLoss'])\n",
    "    speed_factor = None\n",
    "    \n",
    "    co_abs = 0\n",
    "    co2_abs = 0\n",
    "    hc_abs = 0\n",
    "    pmx_abs = 0\n",
    "    nox_abs = 0\n",
    "    fuel_abs = 0\n",
    "    \n",
    "    return path, vid, vtype, depart_time, depart_lane, depart_delay, arrival_time, arrival_lane, duration, route_length, waiting_time, waiting_count, time_loss, speed_factor, co_abs, co2_abs, hc_abs, pmx_abs, nox_abs, fuel_abs\n",
    "\n",
    "\n",
    "def extract_tripinfos(path):\n",
    "    def curry_extract_tripinfo(tripinfo):\n",
    "        return extract_tripinfo(tripinfo, path)\n",
    "    \n",
    "    def curry_extract_personinfo(personinfo):\n",
    "        return extract_personinfo(personinfo, path)\n",
    "    \n",
    "    with open('../data/{}/tripinfo.xml'.format(path)) as file:\n",
    "        parsed = BeautifulSoup(file, 'xml')\n",
    "        \n",
    "        tripinfos = parsed.find_all('tripinfo')\n",
    "        personinfos = parsed.find_all('personinfo')\n",
    "        \n",
    "        return itertools.chain(map(curry_extract_tripinfo, tripinfos), map(curry_extract_personinfo, personinfos))\n",
    "    \n",
    "trips = pd.DataFrame(tqdm(itertools.chain.from_iterable(map(extract_tripinfos, experiments))), columns=[\n",
    "    'path', 'vid', 'vtype', 'depart_time', 'depart_lane', 'depart_delay', \n",
    "    'arrival_time', 'arrival_lane', 'duration', 'route_length', \n",
    "    'waiting_time', 'waiting_count', 'time_loss', 'speed_factor',\n",
    "    'co_abs', 'co2_abs', 'hc_abs', 'pmx_abs', 'nox_abs', 'fuel_abs'\n",
    "])"
   ]
  },
  {
   "cell_type": "code",
   "execution_count": 48,
   "metadata": {},
   "outputs": [
    {
     "data": {
      "text/html": [
       "<div>\n",
       "<style scoped>\n",
       "    .dataframe tbody tr th:only-of-type {\n",
       "        vertical-align: middle;\n",
       "    }\n",
       "\n",
       "    .dataframe tbody tr th {\n",
       "        vertical-align: top;\n",
       "    }\n",
       "\n",
       "    .dataframe thead th {\n",
       "        text-align: right;\n",
       "    }\n",
       "</style>\n",
       "<table border=\"1\" class=\"dataframe\">\n",
       "  <thead>\n",
       "    <tr style=\"text-align: right;\">\n",
       "      <th></th>\n",
       "      <th>path</th>\n",
       "      <th>vid</th>\n",
       "      <th>vtype</th>\n",
       "      <th>depart_time</th>\n",
       "      <th>depart_lane</th>\n",
       "      <th>depart_delay</th>\n",
       "      <th>arrival_time</th>\n",
       "      <th>arrival_lane</th>\n",
       "      <th>duration</th>\n",
       "      <th>route_length</th>\n",
       "      <th>waiting_time</th>\n",
       "      <th>waiting_count</th>\n",
       "      <th>time_loss</th>\n",
       "      <th>speed_factor</th>\n",
       "      <th>co_abs</th>\n",
       "      <th>co2_abs</th>\n",
       "      <th>hc_abs</th>\n",
       "      <th>pmx_abs</th>\n",
       "      <th>nox_abs</th>\n",
       "      <th>fuel_abs</th>\n",
       "    </tr>\n",
       "  </thead>\n",
       "  <tbody>\n",
       "    <tr>\n",
       "      <th>0</th>\n",
       "      <td>aarhus_prediction_30_control_20_prob</td>\n",
       "      <td>bike_straight_b.0</td>\n",
       "      <td>DEFAULT_BIKETYPE</td>\n",
       "      <td>10.45</td>\n",
       "      <td>24095610_0</td>\n",
       "      <td>0.0</td>\n",
       "      <td>81.45</td>\n",
       "      <td>502199947#0_0</td>\n",
       "      <td>71.00</td>\n",
       "      <td>376.96</td>\n",
       "      <td>0.05</td>\n",
       "      <td>1.0</td>\n",
       "      <td>3.14</td>\n",
       "      <td>0.95</td>\n",
       "      <td>0.000000</td>\n",
       "      <td>0.000000</td>\n",
       "      <td>0.000000</td>\n",
       "      <td>0.000000</td>\n",
       "      <td>0.000000</td>\n",
       "      <td>0.000000</td>\n",
       "    </tr>\n",
       "    <tr>\n",
       "      <th>1</th>\n",
       "      <td>aarhus_prediction_30_control_20_prob</td>\n",
       "      <td>a2_right_v.2</td>\n",
       "      <td>DEFAULT_VEHTYPE</td>\n",
       "      <td>17.05</td>\n",
       "      <td>gneE14_2</td>\n",
       "      <td>0.0</td>\n",
       "      <td>82.95</td>\n",
       "      <td>502199947#0_1</td>\n",
       "      <td>65.90</td>\n",
       "      <td>981.34</td>\n",
       "      <td>0.00</td>\n",
       "      <td>0.0</td>\n",
       "      <td>2.15</td>\n",
       "      <td>1.12</td>\n",
       "      <td>1486.694004</td>\n",
       "      <td>164805.399487</td>\n",
       "      <td>10.472182</td>\n",
       "      <td>2.616911</td>\n",
       "      <td>63.465550</td>\n",
       "      <td>70.842521</td>\n",
       "    </tr>\n",
       "    <tr>\n",
       "      <th>2</th>\n",
       "      <td>aarhus_prediction_30_control_20_prob</td>\n",
       "      <td>a2_right_v.1</td>\n",
       "      <td>DEFAULT_VEHTYPE</td>\n",
       "      <td>12.50</td>\n",
       "      <td>gneE14_2</td>\n",
       "      <td>0.0</td>\n",
       "      <td>88.00</td>\n",
       "      <td>502199947#0_1</td>\n",
       "      <td>75.50</td>\n",
       "      <td>981.34</td>\n",
       "      <td>0.00</td>\n",
       "      <td>0.0</td>\n",
       "      <td>2.64</td>\n",
       "      <td>0.98</td>\n",
       "      <td>1714.763883</td>\n",
       "      <td>173069.703458</td>\n",
       "      <td>11.812575</td>\n",
       "      <td>2.631048</td>\n",
       "      <td>66.820066</td>\n",
       "      <td>74.395222</td>\n",
       "    </tr>\n",
       "    <tr>\n",
       "      <th>3</th>\n",
       "      <td>aarhus_prediction_30_control_20_prob</td>\n",
       "      <td>a2_straight_v.0</td>\n",
       "      <td>DEFAULT_VEHTYPE</td>\n",
       "      <td>0.15</td>\n",
       "      <td>gneE14_1</td>\n",
       "      <td>0.0</td>\n",
       "      <td>95.10</td>\n",
       "      <td>gneE6_2</td>\n",
       "      <td>94.95</td>\n",
       "      <td>1540.73</td>\n",
       "      <td>0.00</td>\n",
       "      <td>0.0</td>\n",
       "      <td>2.64</td>\n",
       "      <td>1.20</td>\n",
       "      <td>2024.045747</td>\n",
       "      <td>250002.986706</td>\n",
       "      <td>14.829118</td>\n",
       "      <td>4.012623</td>\n",
       "      <td>95.393929</td>\n",
       "      <td>107.465030</td>\n",
       "    </tr>\n",
       "    <tr>\n",
       "      <th>4</th>\n",
       "      <td>aarhus_prediction_30_control_20_prob</td>\n",
       "      <td>a2_right_v.0</td>\n",
       "      <td>DEFAULT_VEHTYPE</td>\n",
       "      <td>12.05</td>\n",
       "      <td>gneE14_1</td>\n",
       "      <td>0.0</td>\n",
       "      <td>97.60</td>\n",
       "      <td>502199947#0_1</td>\n",
       "      <td>85.55</td>\n",
       "      <td>981.34</td>\n",
       "      <td>0.00</td>\n",
       "      <td>0.0</td>\n",
       "      <td>1.52</td>\n",
       "      <td>0.85</td>\n",
       "      <td>1767.380100</td>\n",
       "      <td>161011.091985</td>\n",
       "      <td>11.748318</td>\n",
       "      <td>2.246608</td>\n",
       "      <td>61.446416</td>\n",
       "      <td>69.212143</td>\n",
       "    </tr>\n",
       "  </tbody>\n",
       "</table>\n",
       "</div>"
      ],
      "text/plain": [
       "                                   path                vid             vtype  \\\n",
       "0  aarhus_prediction_30_control_20_prob  bike_straight_b.0  DEFAULT_BIKETYPE   \n",
       "1  aarhus_prediction_30_control_20_prob       a2_right_v.2   DEFAULT_VEHTYPE   \n",
       "2  aarhus_prediction_30_control_20_prob       a2_right_v.1   DEFAULT_VEHTYPE   \n",
       "3  aarhus_prediction_30_control_20_prob    a2_straight_v.0   DEFAULT_VEHTYPE   \n",
       "4  aarhus_prediction_30_control_20_prob       a2_right_v.0   DEFAULT_VEHTYPE   \n",
       "\n",
       "   depart_time depart_lane  depart_delay  arrival_time   arrival_lane  \\\n",
       "0        10.45  24095610_0           0.0         81.45  502199947#0_0   \n",
       "1        17.05    gneE14_2           0.0         82.95  502199947#0_1   \n",
       "2        12.50    gneE14_2           0.0         88.00  502199947#0_1   \n",
       "3         0.15    gneE14_1           0.0         95.10        gneE6_2   \n",
       "4        12.05    gneE14_1           0.0         97.60  502199947#0_1   \n",
       "\n",
       "   duration  route_length  waiting_time  waiting_count  time_loss  \\\n",
       "0     71.00        376.96          0.05            1.0       3.14   \n",
       "1     65.90        981.34          0.00            0.0       2.15   \n",
       "2     75.50        981.34          0.00            0.0       2.64   \n",
       "3     94.95       1540.73          0.00            0.0       2.64   \n",
       "4     85.55        981.34          0.00            0.0       1.52   \n",
       "\n",
       "   speed_factor       co_abs        co2_abs     hc_abs   pmx_abs    nox_abs  \\\n",
       "0          0.95     0.000000       0.000000   0.000000  0.000000   0.000000   \n",
       "1          1.12  1486.694004  164805.399487  10.472182  2.616911  63.465550   \n",
       "2          0.98  1714.763883  173069.703458  11.812575  2.631048  66.820066   \n",
       "3          1.20  2024.045747  250002.986706  14.829118  4.012623  95.393929   \n",
       "4          0.85  1767.380100  161011.091985  11.748318  2.246608  61.446416   \n",
       "\n",
       "     fuel_abs  \n",
       "0    0.000000  \n",
       "1   70.842521  \n",
       "2   74.395222  \n",
       "3  107.465030  \n",
       "4   69.212143  "
      ]
     },
     "execution_count": 48,
     "metadata": {},
     "output_type": "execute_result"
    }
   ],
   "source": [
    "trips.head()"
   ]
  },
  {
   "cell_type": "code",
   "execution_count": 49,
   "metadata": {},
   "outputs": [],
   "source": [
    "aarhus = trips[trips['path'].str.startswith('aarhus')]"
   ]
  },
  {
   "cell_type": "code",
   "execution_count": 50,
   "metadata": {},
   "outputs": [
    {
     "data": {
      "image/png": "[encoded data removed]",
      "text/plain": [
       "<Figure size 1296x648 with 3 Axes>"
      ]
     },
     "metadata": {
      "needs_background": "light"
     },
     "output_type": "display_data"
    }
   ],
   "source": [
    "g = sns.FacetGrid(aarhus, row='path',\n",
    "                  height=3, aspect=6)\n",
    "g.map(sns.distplot, 'time_loss', kde=False);"
   ]
  },
  {
   "cell_type": "code",
   "execution_count": 62,
   "metadata": {},
   "outputs": [
    {
     "data": {
      "text/plain": [
       "path\n",
       "aarhus_prediction_30_control_15_prob    21.193403\n",
       "aarhus_prediction_30_control_20_prob    17.674703\n",
       "aarhus_timed_prob                       26.329476\n",
       "Name: time_loss, dtype: float64"
      ]
     },
     "execution_count": 62,
     "metadata": {},
     "output_type": "execute_result"
    }
   ],
   "source": [
    "aarhus_avg = aarhus[['path', 'time_loss']].groupby('path')['time_loss'].mean()\n",
    "aarhus_avg"
   ]
  },
  {
   "cell_type": "code",
   "execution_count": 63,
   "metadata": {},
   "outputs": [
    {
     "data": {
      "text/plain": [
       "path\n",
       "aarhus_prediction_30_control_15_prob    0.195069\n",
       "aarhus_prediction_30_control_20_prob    0.328710\n",
       "aarhus_timed_prob                       0.000000\n",
       "Name: time_loss, dtype: float64"
      ]
     },
     "execution_count": 63,
     "metadata": {},
     "output_type": "execute_result"
    }
   ],
   "source": [
    "(aarhus_avg.max() - aarhus_avg) / aarhus_avg.max()"
   ]
  },
  {
   "cell_type": "code",
   "execution_count": 58,
   "metadata": {},
   "outputs": [],
   "source": [
    "simple = trips[trips['path'].str.startswith('simple')]"
   ]
  },
  {
   "cell_type": "code",
   "execution_count": 59,
   "metadata": {},
   "outputs": [
    {
     "data": {
      "image/png": "[encoded data removed]",
      "text/plain": [
       "<Figure size 1296x648 with 3 Axes>"
      ]
     },
     "metadata": {
      "needs_background": "light"
     },
     "output_type": "display_data"
    }
   ],
   "source": [
    "g = sns.FacetGrid(simple, row='path',\n",
    "                  height=3, aspect=6)\n",
    "g.map(sns.distplot, 'time_loss', kde=False);"
   ]
  },
  {
   "cell_type": "code",
   "execution_count": 60,
   "metadata": {},
   "outputs": [
    {
     "data": {
      "text/plain": [
       "path\n",
       "simple_prediction_30_control_15_prob    18.399473\n",
       "simple_prediction_30_control_20_prob    16.091013\n",
       "simple_timed_prob                       27.444374\n",
       "Name: time_loss, dtype: float64"
      ]
     },
     "execution_count": 60,
     "metadata": {},
     "output_type": "execute_result"
    }
   ],
   "source": [
    "simple_avg = simple[['path', 'time_loss']].groupby('path')['time_loss'].mean()\n",
    "simple_avg"
   ]
  },
  {
   "cell_type": "code",
   "execution_count": 61,
   "metadata": {},
   "outputs": [
    {
     "data": {
      "text/plain": [
       "path\n",
       "simple_prediction_30_control_15_prob    0.329572\n",
       "simple_prediction_30_control_20_prob    0.413686\n",
       "simple_timed_prob                       0.000000\n",
       "Name: time_loss, dtype: float64"
      ]
     },
     "execution_count": 61,
     "metadata": {},
     "output_type": "execute_result"
    }
   ],
   "source": [
    "(simple_avg.max() - simple_avg) / simple_avg.max()"
   ]
  },
  {
   "cell_type": "code",
   "execution_count": 66,
   "metadata": {},
   "outputs": [],
   "source": [
    "super_simple = trips[trips['path'].str.startswith('super_simple')]"
   ]
  },
  {
   "cell_type": "code",
   "execution_count": 67,
   "metadata": {},
   "outputs": [
    {
     "data": {
      "image/png": "[encoded data removed]",
      "text/plain": [
       "<Figure size 1296x648 with 3 Axes>"
      ]
     },
     "metadata": {
      "needs_background": "light"
     },
     "output_type": "display_data"
    }
   ],
   "source": [
    "g = sns.FacetGrid(super_simple, row='path',\n",
    "                  height=3, aspect=6)\n",
    "g.map(sns.distplot, 'time_loss', kde=False);"
   ]
  },
  {
   "cell_type": "code",
   "execution_count": 68,
   "metadata": {},
   "outputs": [
    {
     "data": {
      "text/plain": [
       "path\n",
       "super_simple_prediction_30_control_15_prob    29.840621\n",
       "super_simple_prediction_30_control_20_prob    27.338031\n",
       "super_simple_timed_prob                       27.917063\n",
       "Name: time_loss, dtype: float64"
      ]
     },
     "execution_count": 68,
     "metadata": {},
     "output_type": "execute_result"
    }
   ],
   "source": [
    "super_simple_avg = super_simple[['path', 'time_loss']].groupby('path')['time_loss'].mean()\n",
    "super_simple_avg"
   ]
  },
  {
   "cell_type": "code",
   "execution_count": 69,
   "metadata": {},
   "outputs": [
    {
     "data": {
      "text/plain": [
       "path\n",
       "super_simple_prediction_30_control_15_prob    0.000000\n",
       "super_simple_prediction_30_control_20_prob    0.083865\n",
       "super_simple_timed_prob                       0.064461\n",
       "Name: time_loss, dtype: float64"
      ]
     },
     "execution_count": 69,
     "metadata": {},
     "output_type": "execute_result"
    }
   ],
   "source": [
    "(super_simple_avg.max() - super_simple_avg) / super_simple_avg.max()"
   ]
  },
  {
   "cell_type": "code",
   "execution_count": 70,
   "metadata": {},
   "outputs": [
    {
     "data": {
      "image/png": "[encoded data removed]",
      "text/plain": [
       "<Figure size 1296x648 with 3 Axes>"
      ]
     },
     "metadata": {
      "needs_background": "light"
     },
     "output_type": "display_data"
    }
   ],
   "source": [
    "g = sns.FacetGrid(aarhus, row='path',\n",
    "                  height=3, aspect=6)\n",
    "g.map(sns.distplot, 'co2_abs', kde=False);"
   ]
  },
  {
   "cell_type": "code",
   "execution_count": 73,
   "metadata": {},
   "outputs": [
    {
     "data": {
      "text/plain": [
       "path\n",
       "aarhus_prediction_30_control_15_prob    242520.136335\n",
       "aarhus_prediction_30_control_20_prob    235739.859503\n",
       "aarhus_timed_prob                       250976.665494\n",
       "Name: co2_abs, dtype: float64"
      ]
     },
     "execution_count": 73,
     "metadata": {},
     "output_type": "execute_result"
    }
   ],
   "source": [
    "aarhus_co2_avg = aarhus[['path', 'co2_abs']].groupby('path')['co2_abs'].mean()\n",
    "aarhus_co2_avg"
   ]
  },
  {
   "cell_type": "code",
   "execution_count": 74,
   "metadata": {},
   "outputs": [
    {
     "data": {
      "text/plain": [
       "path\n",
       "aarhus_prediction_30_control_15_prob    0.033694\n",
       "aarhus_prediction_30_control_20_prob    0.060710\n",
       "aarhus_timed_prob                       0.000000\n",
       "Name: co2_abs, dtype: float64"
      ]
     },
     "execution_count": 74,
     "metadata": {},
     "output_type": "execute_result"
    }
   ],
   "source": [
    "(aarhus_co2_avg.max() - aarhus_co2_avg) / aarhus_co2_avg.max()"
   ]
  },
  {
   "cell_type": "code",
   "execution_count": null,
   "metadata": {},
   "outputs": [],
   "source": []
  }
 ],
 "metadata": {
  "kernelspec": {
   "display_name": "Python 3",
   "language": "python",
   "name": "python3"
  },
  "language_info": {
   "codemirror_mode": {
    "name": "ipython",
    "version": 3
   },
   "file_extension": ".py",
   "mimetype": "text/x-python",
   "name": "python",
   "nbconvert_exporter": "python",
   "pygments_lexer": "ipython3",
   "version": "3.8.2"
  }
 },
 "nbformat": 4,
 "nbformat_minor": 4
}
